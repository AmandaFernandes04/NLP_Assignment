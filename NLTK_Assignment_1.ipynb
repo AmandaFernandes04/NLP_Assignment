{
 "cells": [
  {
   "cell_type": "code",
   "execution_count": 20,
   "metadata": {},
   "outputs": [],
   "source": [
    "import re\n",
    "import nltk\n",
    "import string"
   ]
  },
  {
   "cell_type": "code",
   "execution_count": 62,
   "metadata": {},
   "outputs": [
    {
     "name": "stdout",
     "output_type": "stream",
     "text": [
      "['@gmail.com,', '@yahoo.com,', '@hotmail.com,', '@ineuron.ai,', '@outlook.com']\n"
     ]
    }
   ],
   "source": [
    "# **Question 1.** Write a python program to find out the words after '@' from the below sentences with the use of regex.\n",
    "\n",
    "# \"xyz@gmail.com\",\n",
    "# \"abc@yahoo.com\",\n",
    "# \"xyz@hotmail.com\",\n",
    "# \"abc@ineuron.ai\",\n",
    "# \"xyz@outlook.com\"\n",
    "\n",
    "str2 = \"\"\"\n",
    "xyz@gmail.com,\n",
    "abc@yahoo.com,\n",
    "xyz@hotmail.com,\n",
    "abc@ineuron.ai,\n",
    "xyz@outlook.com\n",
    "\n",
    "\"\"\"\n",
    "\n",
    "res = re.findall(r'@.+', str2)\n",
    "print (res)"
   ]
  },
  {
   "cell_type": "code",
   "execution_count": 63,
   "metadata": {},
   "outputs": [
    {
     "name": "stdout",
     "output_type": "stream",
     "text": [
      "['Delhi is the capital of India']\n"
     ]
    }
   ],
   "source": [
    "# **Question 2.** Write a python program with the use of regex to take out the word \"New\" from the following sentence.\n",
    "\n",
    "# [\"New Delhi is the capital of India\"]\n",
    "\n",
    "str3 = \"New Delhi is the capital of India\"\n",
    "res1 = re.findall(r'Delhi.*', str3)\n",
    "print (res1)"
   ]
  },
  {
   "cell_type": "code",
   "execution_count": 74,
   "metadata": {},
   "outputs": [
    {
     "name": "stdout",
     "output_type": "stream",
     "text": [
      "in india,  people got affected with corona virus and  are died.\n"
     ]
    }
   ],
   "source": [
    "# **Question 3.** Create one python program in which you have to lowercase the sentence first and than delete digits \n",
    "# from the following sentence.\n",
    "\n",
    "# \"In India, 184 people got affected with Corona virus and 4 are died.\"\n",
    "\n",
    "str4 = \"In India, 184 people got affected with Corona virus and 4 are died.\"\n",
    "str4 = str4.lower()\n",
    "\n",
    "pattern = re.sub(r'[0-9]' , '' , str4)\n",
    "print (pattern)"
   ]
  },
  {
   "cell_type": "code",
   "execution_count": 32,
   "metadata": {},
   "outputs": [
    {
     "name": "stdout",
     "output_type": "stream",
     "text": [
      " Word Tokenization : ['i', 'hope', 'that', ',', 'when', 'i', 'have', 'built', 'up', 'my', 'savings', ',', 'i', 'will', 'be', 'able', 'to', 'travel', 'to', 'hawai', '.']\n",
      "\n",
      " Sentence Tokenization : ['i hope that, when i have built up my savings, i will be able to travel to hawai.']\n",
      "\n",
      "Cleaned Data: ['hope', 'built', 'savings', 'able', 'travel', 'hawai']\n",
      "\n"
     ]
    }
   ],
   "source": [
    "# **Question 4.** Do stemming, lemmatization and tokenization from the following sentence.\n",
    "\n",
    "# \"I hope that, when I have built up my savings, I will be able to travel to Hawai.\"\n",
    "\n",
    "str1 = \"I hope that, when I have built up my savings, I will be able to travel to Hawai.\"\n",
    "\n",
    "#word tokenization\n",
    "str1_word_tokens = nltk.word_tokenize(str1.lower())\n",
    "print (\" Word Tokenization : \" + str(str1_word_tokens))\n",
    "print ()\n",
    "\n",
    "#sentence tokenization\n",
    "str1_sentence_tokens = nltk.sent_tokenize(str1.lower())\n",
    "print (\" Sentence Tokenization : \" + str(str1_sentence_tokens))\n",
    "print ()\n",
    "\n",
    "\n",
    "from nltk.corpus import stopwords\n",
    "stop_words = stopwords.words('english')\n",
    "\n",
    "\n",
    "# removing punctuations and stopwords\n",
    "\n",
    "cleaned_data_str1 = [ i for i in str1_word_tokens if i not in punc]\n",
    "cleaned_data_str1 = [ j for j in cleaned_data_str1 if j not in stop_words]\n",
    "\n",
    "print (\"Cleaned Data: \" + str (cleaned_data_str1))\n",
    "print ()\n"
   ]
  },
  {
   "cell_type": "code",
   "execution_count": 49,
   "metadata": {},
   "outputs": [
    {
     "name": "stdout",
     "output_type": "stream",
     "text": [
      "Porter Stemming: hope built save abl travel hawai\n",
      "Lancaster Stemming: hop built sav abl travel hawa\n",
      "Snowball Stemming: hope built save abl travel hawai\n"
     ]
    }
   ],
   "source": [
    "# stemming\n",
    "from nltk import PorterStemmer, LancasterStemmer, SnowballStemmer\n",
    "\n",
    "porter = PorterStemmer()\n",
    "lancaster = LancasterStemmer()\n",
    "snowball = SnowballStemmer(\"english\")\n",
    "\n",
    "\n",
    "p_stemming = ' '.join([ porter.stem(i) for i in cleaned_data_str1])\n",
    "l_stemming = ' '.join([ lancaster.stem(i) for i in cleaned_data_str1])\n",
    "s_stemming = ' '.join([ snowball.stem(i) for i in cleaned_data_str1])\n",
    "\n",
    "print ('Porter Stemming: ' + p_stemming)\n",
    "print ('Lancaster Stemming: ' + l_stemming)\n",
    "print ('Snowball Stemming: ' + s_stemming)\n",
    "       "
   ]
  },
  {
   "cell_type": "code",
   "execution_count": 55,
   "metadata": {},
   "outputs": [
    {
     "name": "stdout",
     "output_type": "stream",
     "text": [
      "Lemmatized words: hope build save able travel hawai\n"
     ]
    }
   ],
   "source": [
    "# lemmatization\n",
    "from nltk.stem import WordNetLemmatizer\n",
    "lemma = WordNetLemmatizer()\n",
    "\n",
    "x = [ lemma.lemmatize(i, pos = 'v') for i in cleaned_data_str1 ]\n",
    "print ('Lemmatized words: ' + \" \".join(x)) "
   ]
  },
  {
   "cell_type": "code",
   "execution_count": null,
   "metadata": {},
   "outputs": [],
   "source": []
  },
  {
   "cell_type": "code",
   "execution_count": 12,
   "metadata": {},
   "outputs": [
    {
     "name": "stdout",
     "output_type": "stream",
     "text": [
      "['I', 'l', 'N', 'n', 'y']\n"
     ]
    }
   ],
   "source": [
    "# **Question 5.** Create one python program from the following sentence.\n",
    "\n",
    "# \"I love NLP, not you\"\n",
    "\n",
    "# output : ['I', 'l', 'N', 'n', 'y']\n",
    "\n",
    "\n",
    "sentence = \"I love NLP, not you\"\n",
    "\n",
    "#creating word tokens\n",
    "word_tokens = nltk.word_tokenize(sentence)\n",
    "word_tokens\n",
    "\n",
    "import string\n",
    "punc = string.punctuation\n",
    "\n",
    "#removing punctuations\n",
    "clean_data = [i for i in word_tokens if i not in punc]\n",
    "clean_data\n",
    "\n",
    "output = []\n",
    "for i in clean_data:\n",
    "    item = i[0]\n",
    "    output.append(item)\n",
    "    \n",
    "print (output)"
   ]
  },
  {
   "cell_type": "code",
   "execution_count": null,
   "metadata": {},
   "outputs": [],
   "source": []
  },
  {
   "cell_type": "code",
   "execution_count": null,
   "metadata": {},
   "outputs": [],
   "source": []
  },
  {
   "cell_type": "code",
   "execution_count": null,
   "metadata": {},
   "outputs": [],
   "source": []
  },
  {
   "cell_type": "code",
   "execution_count": null,
   "metadata": {},
   "outputs": [],
   "source": []
  },
  {
   "cell_type": "code",
   "execution_count": null,
   "metadata": {},
   "outputs": [],
   "source": []
  },
  {
   "cell_type": "code",
   "execution_count": null,
   "metadata": {},
   "outputs": [],
   "source": []
  },
  {
   "cell_type": "code",
   "execution_count": null,
   "metadata": {},
   "outputs": [],
   "source": []
  }
 ],
 "metadata": {
  "kernelspec": {
   "display_name": "Python 3",
   "language": "python",
   "name": "python3"
  },
  "language_info": {
   "codemirror_mode": {
    "name": "ipython",
    "version": 3
   },
   "file_extension": ".py",
   "mimetype": "text/x-python",
   "name": "python",
   "nbconvert_exporter": "python",
   "pygments_lexer": "ipython3",
   "version": "3.8.5"
  }
 },
 "nbformat": 4,
 "nbformat_minor": 4
}
